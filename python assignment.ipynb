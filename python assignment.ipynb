{
 "cells": [
  {
   "cell_type": "code",
   "execution_count": 1,
   "metadata": {},
   "outputs": [
    {
     "name": "stdout",
     "output_type": "stream",
     "text": [
      "Hello World\n"
     ]
    }
   ],
   "source": [
    "#1\n",
    "print(\"Hello World\")"
   ]
  },
  {
   "cell_type": "code",
   "execution_count": 2,
   "metadata": {},
   "outputs": [
    {
     "name": "stdout",
     "output_type": "stream",
     "text": [
      "hello  sakshi\n",
      "namaste  sakshi\n",
      "nasmaskar sakshi\n",
      "konichiwa  sakshi\n"
     ]
    }
   ],
   "source": [
    "# 2\n",
    "i=input(\"Enter your name\")\n",
    "print(\"hello \", i)\n",
    "print(\"namaste \", i)\n",
    "print(\"nasmaskar\", i)\n",
    "print(\"konichiwa \", i)"
   ]
  },
  {
   "cell_type": "code",
   "execution_count": 4,
   "metadata": {},
   "outputs": [
    {
     "name": "stdout",
     "output_type": "stream",
     "text": [
      "Sum of 3.0 and 4.0 is 7.0.\n"
     ]
    }
   ],
   "source": [
    "#3\n",
    "num1=float(input(\"Enter the First number :\"))\n",
    "num2=float(input(\"Enter the Second number :\"))\n",
    "sum=num1+num2\n",
    "print(f\"Sum of {num1} and {num2} is {sum}.\")"
   ]
  },
  {
   "cell_type": "code",
   "execution_count": 6,
   "metadata": {},
   "outputs": [
    {
     "name": "stdout",
     "output_type": "stream",
     "text": [
      "The sum of 6.0 and 3.0 is 9.0.\n",
      "The difference when 3.0 is subtracted from 6.0 is 3.0.\n",
      "The product of 6.0 and 3.0 is 18.0.\n",
      "The quotient when 6.0 is divided by 3.0 is 2.0.\n"
     ]
    }
   ],
   "source": [
    "#4\n",
    "num1=float(input(\"Enter first number\"))\n",
    "num2=float(input(\"Enter second number\"))\n",
    "sum=num1+num2\n",
    "difference=num1-num2\n",
    "product=num1*num2\n",
    "if num2 != 0:\n",
    "    quotient = num1 / num2\n",
    "else:\n",
    "    quotient = None\n",
    "\n",
    "\n",
    "print(f\"The sum of {num1} and {num2} is {sum}.\")\n",
    "print(f\"The difference when {num2} is subtracted from {num1} is {difference}.\")\n",
    "print(f\"The product of {num1} and {num2} is {product}.\")\n",
    "if quotient is not None:\n",
    "    print(f\"The quotient when {num1} is divided by {num2} is {quotient}.\")\n",
    "else:\n",
    "    print(\"Division by zero is not allowed, so the quotient cannot be calculated.\")\n"
   ]
  },
  {
   "cell_type": "code",
   "execution_count": 7,
   "metadata": {},
   "outputs": [
    {
     "name": "stdout",
     "output_type": "stream",
     "text": [
      "4 3\n"
     ]
    }
   ],
   "source": [
    "#5\n",
    "a=3\n",
    "b=4\n",
    "a,b=b,a\n",
    "print(a,b)"
   ]
  },
  {
   "cell_type": "code",
   "execution_count": 9,
   "metadata": {},
   "outputs": [
    {
     "name": "stdout",
     "output_type": "stream",
     "text": [
      "EVEN NUMBER 4\n"
     ]
    }
   ],
   "source": [
    "#6\n",
    "num=int(input(\"enter the number:\"))\n",
    "if num%2==0:\n",
    "    print(\"EVEN NUMBER\",num)\n",
    "else:\n",
    "    print(\"ODD NUMBER\",num)\n"
   ]
  },
  {
   "cell_type": "code",
   "execution_count": 11,
   "metadata": {},
   "outputs": [
    {
     "name": "stdout",
     "output_type": "stream",
     "text": [
      "the largest number is 9\n"
     ]
    }
   ],
   "source": [
    "#7\n",
    "num1=int(input(\"Enter 1st number\"))\n",
    "num2=int(input(\"Enter 2nd number\"))\n",
    "num3=int(input(\"Enter 3rd number\"))\n",
    "if num1 >= num2 and num1 >= num3:\n",
    "    largest = num1\n",
    "elif num2 >= num1 and num2 >= num3:\n",
    "    largest = num2\n",
    "else:\n",
    "    largest = num3\n",
    "print(\"the largest number is\", largest)\n",
    "\n"
   ]
  },
  {
   "cell_type": "code",
   "execution_count": 12,
   "metadata": {},
   "outputs": [
    {
     "name": "stdout",
     "output_type": "stream",
     "text": [
      "The temperature in Celsius is 2.22°C.\n"
     ]
    }
   ],
   "source": [
    "#8\n",
    "fahrenheit = float(input(\"Enter the temperature in Fahrenheit: \"))\n",
    "celsius = (fahrenheit - 32) * 5 / 9\n",
    "print(f\"The temperature in Celsius is {celsius:.2f}°C.\")"
   ]
  },
  {
   "cell_type": "code",
   "execution_count": 13,
   "metadata": {},
   "outputs": [
    {
     "name": "stdout",
     "output_type": "stream",
     "text": [
      "The simple interest is: 210.60\n"
     ]
    }
   ],
   "source": [
    "#9\n",
    "principal = float(input(\"Enter the principal amount: \"))\n",
    "rate = float(input(\"Enter the rate of interest (in %): \"))\n",
    "time = float(input(\"Enter the time period (in years): \"))\n",
    "\n",
    "simpleinterest = (principal * rate * time) / 100\n",
    "print(f\"The simple interest is: {simpleinterest:.2f}\")"
   ]
  },
  {
   "cell_type": "code",
   "execution_count": 14,
   "metadata": {},
   "outputs": [
    {
     "name": "stdout",
     "output_type": "stream",
     "text": [
      "6.512400000000014\n"
     ]
    }
   ],
   "source": [
    "#10\n",
    "p = float(input(\"Enter the principal amount: \"))\n",
    "r = float(input(\"Enter the rate of interest (in %): \"))\n",
    "t = float(input(\"Enter the time period (in years): \"))\n",
    "\n",
    "a= p*(1+(r/100))**t\n",
    "ci=a-p\n",
    "print(ci)\n"
   ]
  },
  {
   "cell_type": "code",
   "execution_count": 15,
   "metadata": {},
   "outputs": [
    {
     "name": "stdout",
     "output_type": "stream",
     "text": [
      "The length of the string is: 6\n"
     ]
    }
   ],
   "source": [
    "#11\n",
    "def string_length(s):\n",
    "    count = 0  \n",
    "    for char in s:  \n",
    "        count += 1  \n",
    "    return count  \n",
    "\n",
    "input_string = input(\"Please enter a string: \")\n",
    "length = string_length(input_string)\n",
    "print(f\"The length of the string is: {length}\")"
   ]
  },
  {
   "cell_type": "code",
   "execution_count": 17,
   "metadata": {},
   "outputs": [
    {
     "name": "stdout",
     "output_type": "stream",
     "text": [
      "the string is not a palindrome.\n"
     ]
    }
   ],
   "source": [
    "#12\n",
    "\n",
    "string=input(\"enter a string:\")\n",
    "if string==string[::-1]:\n",
    "    print(\"the string is a palidrome.\")\n",
    "else:\n",
    "    print(\"the string is not a palindrome.\")"
   ]
  },
  {
   "cell_type": "code",
   "execution_count": 18,
   "metadata": {},
   "outputs": [
    {
     "name": "stdout",
     "output_type": "stream",
     "text": [
      "ihskas\n",
      "Skip every second letter: skh\n"
     ]
    }
   ],
   "source": [
    "#13\n",
    "#i reversed string\n",
    "user_input=input(\"enter a string:\")\n",
    "print(user_input[::-1])\n",
    "\n",
    "#ii skip letters\n",
    "user_input=input(\"enter a string\")\n",
    "skip_one = s[::2]\n",
    "print(\"Skip every second letter:\", skip_one)\n",
    "\n",
    "\n",
    "\n"
   ]
  },
  {
   "cell_type": "code",
   "execution_count": 19,
   "metadata": {},
   "outputs": [
    {
     "name": "stdout",
     "output_type": "stream",
     "text": [
      "2\n"
     ]
    }
   ],
   "source": [
    "#14\n",
    "string=input(\"enter a string:\")\n",
    "vowels=\"aeiou\"\n",
    "count=0\n",
    "for i in string:\n",
    "    if i in vowels:\n",
    "        count+=1\n",
    "print(count)\n",
    "#number of vowels in string  "
   ]
  },
  {
   "cell_type": "code",
   "execution_count": 20,
   "metadata": {},
   "outputs": [
    {
     "name": "stdout",
     "output_type": "stream",
     "text": [
      "2024 is a leap year.\n"
     ]
    }
   ],
   "source": [
    "#15\n",
    "year = int(input(\"Enter a year: \"))\n",
    "\n",
    "if (year % 4 == 0 and year % 100 != 0) or (year % 400 == 0):\n",
    "    print(f\"{year} is a leap year.\")\n",
    "else:\n",
    "    print(f\"{year} is not a leap year.\")"
   ]
  },
  {
   "cell_type": "code",
   "execution_count": null,
   "metadata": {},
   "outputs": [
    {
     "name": "stdout",
     "output_type": "stream",
     "text": [
      "Answer is : 81\n"
     ]
    }
   ],
   "source": [
    "#16\n",
    "base = int(input('Enter base value: '))\n",
    "exponent = int(input('Enter exponent value: '))\n",
    "\n",
    "ans = base**exponent\n",
    "\n",
    "print(f'Answer is : {ans}')"
   ]
  },
  {
   "cell_type": "code",
   "execution_count": 26,
   "metadata": {},
   "outputs": [
    {
     "name": "stdout",
     "output_type": "stream",
     "text": [
      "Floor division of 3 // 3 is: 1\n",
      "Modulo of 3 % 3 is: 0\n"
     ]
    }
   ],
   "source": [
    "#17\n",
    "num1 = int(input(\"Enter the first number: \"))\n",
    "num2 = int(input(\"Enter the second number: \"))\n",
    "\n",
    "floor_division = num1 // num2\n",
    "\n",
    "modulo = num1 % num2\n",
    "\n",
    "print(f\"Floor division of {num1} // {num2} is: {floor_division}\")\n",
    "print(f\"Modulo of {num1} % {num2} is: {modulo}\")"
   ]
  },
  {
   "cell_type": "code",
   "execution_count": null,
   "metadata": {},
   "outputs": [
    {
     "name": "stdout",
     "output_type": "stream",
     "text": [
      "Hello, my name is sakshi and I am 18 years old.\n"
     ]
    }
   ],
   "source": [
    "#18\n",
    "name = input(\"Enter your name: \")\n",
    "age = int(input(\"Enter your age: \"))\n",
    "\n",
    "\n",
    "user_info = \"Hello, my name is {} and I am {} years old.\".format(name, age)\n",
    "print(user_info)\n"
   ]
  },
  {
   "cell_type": "code",
   "execution_count": 32,
   "metadata": {},
   "outputs": [
    {
     "name": "stdout",
     "output_type": "stream",
     "text": [
      "The list of integers is: [1, 2, 3, 4, 5]\n",
      "The length of the list is: 5\n"
     ]
    }
   ],
   "source": [
    "#19\n",
    "\n",
    "numbers = []\n",
    "for i in range(5):\n",
    "    num = int(input(f\"Enter integer {i + 1}: \")) \n",
    "    numbers.append(num)  \n",
    "\n",
    "print(\"The list of integers is:\", numbers)\n",
    "print(\"The length of the list is:\", len(numbers))"
   ]
  },
  {
   "cell_type": "code",
   "execution_count": 39,
   "metadata": {},
   "outputs": [
    {
     "name": "stdout",
     "output_type": "stream",
     "text": [
      "100\n"
     ]
    }
   ],
   "source": [
    "#20\n",
    "a = [10, 20, 30, 40]\n",
    "res = 0\n",
    "for val in a:\n",
    "    res += val\n",
    "\n",
    "print(res)"
   ]
  },
  {
   "cell_type": "code",
   "execution_count": 41,
   "metadata": {},
   "outputs": [
    {
     "name": "stdout",
     "output_type": "stream",
     "text": [
      "The list is empty.\n"
     ]
    }
   ],
   "source": [
    "#21\n",
    "\n",
    "numbers = [10, 20, 5, 40, 15]  \n",
    "if len(numbers) == 0:\n",
    "    print(\"The list is empty.\")\n",
    "else:\n",
    "    min_value = numbers[0]\n",
    "    max_value = numbers[0]\n",
    "\n",
    "    for number in numbers:\n",
    "        if number < min_value:\n",
    "            min_value = number \n",
    "        if number > max_value:\n",
    "            max_value = number \n",
    "   \n",
    "    print(\"The minimum value in the list is:\", min_value)\n",
    "    print(\"The maximum value in the list is:\", max_value)"
   ]
  },
  {
   "cell_type": "code",
   "execution_count": null,
   "metadata": {},
   "outputs": [],
   "source": [
    "#22\n",
    "a = [1, 2, 3, 4, 5]\n",
    "\n",
    "start = 0\n",
    "end = len(a) - 1\n",
    "\n",
    "while start < end:\n",
    "    a[start], a[end] = a[end], a[start]  \n",
    "    start += 1 \n",
    "    end -= 1  \n",
    "print(a)\n"
   ]
  },
  {
   "cell_type": "code",
   "execution_count": 47,
   "metadata": {},
   "outputs": [
    {
     "name": "stdout",
     "output_type": "stream",
     "text": [
      "4\n",
      "3\n"
     ]
    }
   ],
   "source": [
    "#23\n",
    "a = [1, 3, 2, 6, 3, 2, 8, 2, 9, 2, 7, 3]\n",
    "\n",
    "print(a.count(2))\n",
    "print(a.count(3))\n"
   ]
  },
  {
   "cell_type": "code",
   "execution_count": 46,
   "metadata": {},
   "outputs": [
    {
     "name": "stdout",
     "output_type": "stream",
     "text": [
      "First element: 10\n",
      "Last element: World\n"
     ]
    }
   ],
   "source": [
    "#24\n",
    "tuple = (10, \"Hello\", 3.14, True, \"World\")\n",
    "\n",
    "print(\"First element:\", tuple[0])\n",
    "print(\"Last element:\", tuple[-1])\n"
   ]
  }
 ],
 "metadata": {
  "kernelspec": {
   "display_name": "Python 3",
   "language": "python",
   "name": "python3"
  },
  "language_info": {
   "codemirror_mode": {
    "name": "ipython",
    "version": 3
   },
   "file_extension": ".py",
   "mimetype": "text/x-python",
   "name": "python",
   "nbconvert_exporter": "python",
   "pygments_lexer": "ipython3",
   "version": "3.12.6"
  }
 },
 "nbformat": 4,
 "nbformat_minor": 2
}
